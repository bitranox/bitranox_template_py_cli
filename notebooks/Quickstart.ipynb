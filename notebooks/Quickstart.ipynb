{
 "cells": [
  {
   "cell_type": "markdown",
   "id": "intro",
   "metadata": {},
   "source": [
    "# lib_template Quickstart\n",
    "\n",
    "Install the package (from PyPI or GitHub), then try the CLI and API examples below."
   ]
  },
  {
   "cell_type": "markdown",
   "id": "github-title",
   "metadata": {},
   "source": [
    "## 1) Install latest from GitHub (default)"
   ]
  },
  {
   "cell_type": "code",
   "execution_count": null,
   "id": "github-install",
   "metadata": {},
   "outputs": [],
   "source": [
    "# update pip and setuptools\n",
    "import sys\n",
    "\n",
    "!{sys.executable} -m pip install --upgrade pip\n",
    "!{sys.executable} -m pip install --upgrade setuptools\n",
    "\n",
    "# install lib_template from GitHub (default)\n",
    "!{sys.executable} -m pip install --upgrade git+https://github.com/bitranox/lib_template.git"
   ]
  },
  {
   "cell_type": "markdown",
   "id": "pypi-title",
   "metadata": {},
   "source": [
    "## Or: Install from PyPI (alternative)\n",
    "Uncomment and run the cell below if you prefer the PyPI release."
   ]
  },
  {
   "cell_type": "code",
   "execution_count": null,
   "id": "pypi-install",
   "metadata": {},
   "outputs": [],
   "source": [
    "# !{sys.executable} -m pip install --upgrade lib_template\n"
   ]
  },
  {
   "cell_type": "markdown",
   "id": "cli-title",
   "metadata": {},
   "source": [
    "## 2) CLI: version and help"
   ]
  },
  {
   "cell_type": "code",
   "execution_count": null,
   "id": "cli-code",
   "metadata": {},
   "outputs": [],
   "source": [
    "!lib_template --version\n",
    "!lib_template --help\n",
    "!lib_template info"
   ]
  },
  {
   "cell_type": "markdown",
   "id": "lib-title",
   "metadata": {},
   "source": [
    "## 3) Library usage: configure logging scaffold\n",
    "The current release exposes configuration helpers so you can experiment\n",
    "with Rich-based logging state before real rendering logic arrives.\n"
   ]
  },
  {
   "cell_type": "code",
   "execution_count": null,
   "id": "lib-code",
   "metadata": {},
   "outputs": [],
   "source": [
    "import lib_template\n",
    "\n",
    "# Demonstrate the scaffolded configuration helpers\n",
    "lib_template.configure(traceback=True, theme=\"monokai\")\n",
    "print(lib_template.config)\n",
    "\n",
    "# Placeholder no-op at the moment\n",
    "lib_template.print_exception_message(\"rendering coming soon\")\n",
    "\n",
    "# Restore defaults for subsequent runs\n",
    "lib_template.reset_defaults()\n",
    "print(lib_template.config)"
   ]
  }
 ],
 "metadata": {
  "kernelspec": {
   "display_name": "Python 3",
   "language": "python",
   "name": "python3"
  },
  "language_info": {
   "name": "python",
   "version": "3"
  }
 },
 "nbformat": 4,
 "nbformat_minor": 5
}